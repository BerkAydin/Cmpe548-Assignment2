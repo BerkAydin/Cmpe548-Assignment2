{
 "cells": [
  {
   "cell_type": "code",
   "execution_count": 9,
   "metadata": {
    "collapsed": false
   },
   "outputs": [],
   "source": [
    "import numpy as np\n",
    "import matplotlib.pyplot as plt\n",
    "import seaborn as sns\n",
    "%matplotlib inline"
   ]
  },
  {
   "cell_type": "code",
   "execution_count": 2,
   "metadata": {
    "collapsed": false
   },
   "outputs": [
    {
     "data": {
      "text/plain": [
       "array([[ 0.25,  0.  ,  0.  ,  0.  ,  0.  ,  0.25],\n",
       "       [ 0.25,  0.25,  0.25,  0.25,  0.25,  0.25],\n",
       "       [ 0.25,  0.25,  0.  ,  0.5 ,  0.25,  0.25],\n",
       "       [ 0.  ,  0.  ,  0.5 ,  0.  ,  0.  ,  0.  ],\n",
       "       [ 0.  ,  0.25,  0.  ,  0.  ,  0.25,  0.  ],\n",
       "       [ 0.25,  0.25,  0.25,  0.25,  0.25,  0.25]])"
      ]
     },
     "execution_count": 2,
     "metadata": {},
     "output_type": "execute_result"
    }
   ],
   "source": [
    "# 2nd Question\n",
    "# Part A\n",
    "A = np.array([[1/4, 1/4, 1/4, 0, 0, 1/4],\n",
    "             [0, 1/4, 1/4, 0, 1/4, 1/4],\n",
    "             [0, 1/4, 0, 1/2, 0, 1/4],\n",
    "             [0, 1/4, 1/2, 0, 0, 1/4],\n",
    "             [0, 1/4, 1/4, 0, 1/4, 1/4],\n",
    "             [1/4, 1/4, 1/4, 0, 0, 1/4]])\n",
    "\n",
    "A = np.transpose(A) # A(i,j) is the probability of transition j -> i\n",
    "A"
   ]
  },
  {
   "cell_type": "code",
   "execution_count": 3,
   "metadata": {
    "collapsed": false
   },
   "outputs": [
    {
     "name": "stdout",
     "output_type": "stream",
     "text": [
      "[ 0.08333333  0.25        0.22222222  0.11111111  0.08333333  0.25      ]\n"
     ]
    }
   ],
   "source": [
    "# Part B\n",
    "e_val, e_vec  = np.linalg.eig(A)\n",
    "i = np.isclose(e_val, 1.0)\n",
    "i = np.argmax(i)\n",
    "v = e_vec[:,i]\n",
    "vn = np.abs(v/np.sum(v)) # Normalize and make probabilities positive\n",
    "print(vn)"
   ]
  },
  {
   "cell_type": "markdown",
   "metadata": {},
   "source": [
    "It is not a uniform distribution."
   ]
  },
  {
   "cell_type": "code",
   "execution_count": 4,
   "metadata": {
    "collapsed": false
   },
   "outputs": [
    {
     "data": {
      "text/plain": [
       "False"
      ]
     },
     "execution_count": 4,
     "metadata": {},
     "output_type": "execute_result"
    }
   ],
   "source": [
    "# Part C\n",
    "x = np.dot(A, np.diag(vn))\n",
    "np.isclose(x, np.transpose(x)).all()"
   ]
  },
  {
   "cell_type": "markdown",
   "metadata": {},
   "source": [
    "It is not in detailed balance."
   ]
  },
  {
   "cell_type": "code",
   "execution_count": 5,
   "metadata": {
    "collapsed": false
   },
   "outputs": [
    {
     "name": "stdout",
     "output_type": "stream",
     "text": [
      "[ 0.08333333  0.25        0.22222222  0.11111112  0.08333333  0.25      ]\n",
      "[ 0.08333333  0.25        0.22222223  0.11111111  0.08333333  0.25      ]\n",
      "Mixing time is 25.\n"
     ]
    }
   ],
   "source": [
    "# Part D\n",
    "eps = float(1e-8)\n",
    "p = [1, 0, 0, 0, 0, 0]\n",
    "p2 = np.dot(A,p)\n",
    "mix_time = 1\n",
    "\n",
    "while (np.logical_not(np.allclose(p2, p, rtol = eps))):\n",
    "    p,p2 = p2,np.dot(A,p2)\n",
    "    mix_time += 1\n",
    "        \n",
    "print(p)\n",
    "print(p2)\n",
    "print('Mixing time is %d.' %mix_time)"
   ]
  },
  {
   "cell_type": "code",
   "execution_count": 6,
   "metadata": {
    "collapsed": false
   },
   "outputs": [
    {
     "data": {
      "image/png": "[encoded data removed]",
      "text/plain": [
       "<matplotlib.figure.Figure at 0xa94cdd8>"
      ]
     },
     "metadata": {},
     "output_type": "display_data"
    }
   ],
   "source": [
    "# Part E\n",
    "fig, ax = plt.subplots(nrows=1, ncols=4, figsize=(20, 4))\n",
    "for j, n in enumerate([1, 3, 13, 25]):\n",
    "    sns.heatmap(np.linalg.matrix_power(A, n), vmin = 0, vmax = 1, ax = ax[j])\n",
    "    ax[j].set_title(\"$n = %d$\" % n)\n",
    "plt.show()"
   ]
  },
  {
   "cell_type": "code",
   "execution_count": 10,
   "metadata": {
    "collapsed": false
   },
   "outputs": [
    {
     "data": {
      "image/png": "[encoded data removed]",
      "text/plain": [
       "<matplotlib.figure.Figure at 0xb21f0b8>"
      ]
     },
     "metadata": {},
     "output_type": "display_data"
    }
   ],
   "source": [
    "# Part F\n",
    "def simulate(P, N):\n",
    "    chain = np.zeros(N).astype(int)\n",
    "    chain[0] = 0\n",
    "    for i in range(1,N):\n",
    "        pr = A[:, chain[i-1]]\n",
    "        chain[i] = np.random.choice(range(6), p = pr)\n",
    "\n",
    "    return(chain)\n",
    "\n",
    "nchains = 1000\n",
    "chain_length = mix_time + 10\n",
    "samples = np.zeros([nchains, chain_length]).astype(int)\n",
    "for i in range(0, nchains):\n",
    "    ch = simulate(A, chain_length)\n",
    "    samples[i,:] = ch\n",
    "\n",
    "column_histograms = np.apply_along_axis(lambda x: np.histogram(x, bins=[0,1,2,3,4,5,6], density = True)[0], 0, samples)\n",
    "\n",
    "plt.figure(figsize=(16, 4))\n",
    "sns.heatmap(column_histograms)\n",
    "plt.show()"
   ]
  },
  {
   "cell_type": "code",
   "execution_count": 28,
   "metadata": {
    "collapsed": false
   },
   "outputs": [
    {
     "data": {
      "image/png": "[encoded data removed]",
      "text/plain": [
       "<matplotlib.figure.Figure at 0xdb9a90>"
      ]
     },
     "metadata": {},
     "output_type": "display_data"
    }
   ],
   "source": [
    "# Part G\n",
    "def simulate(P, N):\n",
    "    chain = np.zeros(N).astype(int)\n",
    "    chain[0] = 0\n",
    "    for i in range(1,N):\n",
    "        pr = P[:, chain[i-1]]\n",
    "        chain[i] = np.random.choice(range(6), p = pr)\n",
    "    return chain\n",
    "\n",
    "nchains = 1000 + mix_time\n",
    "chain = simulate(A, nchains)\n",
    "sns.distplot(chain[mix_time:], kde = False, bins=[0,1,2,3,4,5,6])\n",
    "plt.show()"
   ]
  },
  {
   "cell_type": "code",
   "execution_count": 30,
   "metadata": {
    "collapsed": false
   },
   "outputs": [
    {
     "name": "stdout",
     "output_type": "stream",
     "text": [
      "Eigenvector is: [ 0.08333333  0.25        0.22222222  0.11111111  0.08333333  0.25      ]\n",
      "Distribution of states: [ 0.078  0.265  0.222  0.1    0.074  0.261]\n"
     ]
    }
   ],
   "source": [
    "print('Eigenvector is:', vn)\n",
    "print('Distribution of states:',np.histogram(chain[mix_time:], bins = [0,1,2,3,4,5,6])[0]/1000 )"
   ]
  },
  {
   "cell_type": "markdown",
   "metadata": {},
   "source": [
    "They are in agreement. They would be closer to each other if we had used more samples."
   ]
  }
 ],
 "metadata": {
  "kernelspec": {
   "display_name": "Python 3",
   "language": "python",
   "name": "python3"
  },
  "language_info": {
   "codemirror_mode": {
    "name": "ipython",
    "version": 3
   },
   "file_extension": ".py",
   "mimetype": "text/x-python",
   "name": "python",
   "nbconvert_exporter": "python",
   "pygments_lexer": "ipython3",
   "version": "3.4.4"
  }
 },
 "nbformat": 4,
 "nbformat_minor": 0
}
